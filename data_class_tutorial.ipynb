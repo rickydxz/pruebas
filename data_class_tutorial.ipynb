{
 "cells": [
  {
   "cell_type": "code",
   "execution_count": 159,
   "metadata": {},
   "outputs": [],
   "source": [
    "class Investor:\n",
    "    def __init__(self, name : str, age: int, cash: float):\n",
    "        self.name = name\n",
    "        self.age = age\n",
    "        self.cash = cash\n",
    "    \n",
    "    # como se muestra cuando se imprime la instancia de la clase\n",
    "    def __repr__(self):\n",
    "        return f'Name is :{self.name}'\n",
    "        \n",
    "    # Si el nombre es igual entonces ambas instancias son iguales \n",
    "    def __eq__(self, other):\n",
    "        return self.name == other.name\n",
    "    \n",
    "    \n",
    "    # Si comparo en less than a los inversores\n",
    "    def __lt__(self, other):\n",
    "        return self.cash < other.cash\n"
   ]
  },
  {
   "cell_type": "code",
   "execution_count": 160,
   "metadata": {},
   "outputs": [],
   "source": [
    "i1 =Investor('John', 25, 9000)\n",
    "i2 = Investor('Anna', 30, 1200)\n",
    "i3 = Investor('Bob', 70, 800000)"
   ]
  },
  {
   "cell_type": "code",
   "execution_count": 161,
   "metadata": {},
   "outputs": [
    {
     "name": "stdout",
     "output_type": "stream",
     "text": [
      "Name is :John\n"
     ]
    }
   ],
   "source": [
    "print(i1)"
   ]
  },
  {
   "cell_type": "code",
   "execution_count": 162,
   "metadata": {},
   "outputs": [],
   "source": [
    "i4 = Investor('John', 25, 9000)"
   ]
  },
  {
   "cell_type": "code",
   "execution_count": 163,
   "metadata": {},
   "outputs": [
    {
     "data": {
      "text/plain": [
       "False"
      ]
     },
     "execution_count": 163,
     "metadata": {},
     "output_type": "execute_result"
    }
   ],
   "source": [
    "i1 < i4"
   ]
  },
  {
   "attachments": {},
   "cell_type": "markdown",
   "metadata": {},
   "source": [
    "----\n",
    "DATA CLASSES"
   ]
  },
  {
   "cell_type": "code",
   "execution_count": 164,
   "metadata": {},
   "outputs": [],
   "source": [
    "from dataclasses import dataclass, field"
   ]
  },
  {
   "cell_type": "code",
   "execution_count": 165,
   "metadata": {},
   "outputs": [],
   "source": [
    "@dataclass(order = True) # order = True permite hace comparaciones greater than i less than\n",
    "class Investor:\n",
    "    sort_index: float = field(init = False, repr = False)\n",
    "    name: str\n",
    "    #name: str = field(default= 'Maria') # Maria por defecto se puede asignar\n",
    "    age : int\n",
    "    #age: int = field(init=False) # No se necesita especificar al construir la instancia\n",
    "    cash: float\n",
    "    # cash: float = field(repr=False, compare=False) # No se necesita especificar al construir la instancia\n",
    "    \n",
    "    def __post_init__(self):\n",
    "        self.sort_index = self.cash"
   ]
  },
  {
   "cell_type": "code",
   "execution_count": 166,
   "metadata": {},
   "outputs": [],
   "source": [
    "i1 = Investor('John', 80, 900)\n",
    "i2 = Investor('Mike', 18, 2000)\n",
    "i3 = Investor('John', 80, 900)"
   ]
  },
  {
   "cell_type": "code",
   "execution_count": 168,
   "metadata": {},
   "outputs": [
    {
     "name": "stdout",
     "output_type": "stream",
     "text": [
      "True\n"
     ]
    }
   ],
   "source": [
    "print(i1 < i2)"
   ]
  }
 ],
 "metadata": {
  "kernelspec": {
   "display_name": "Python 3",
   "language": "python",
   "name": "python3"
  },
  "language_info": {
   "codemirror_mode": {
    "name": "ipython",
    "version": 3
   },
   "file_extension": ".py",
   "mimetype": "text/x-python",
   "name": "python",
   "nbconvert_exporter": "python",
   "pygments_lexer": "ipython3",
   "version": "3.10.4"
  },
  "orig_nbformat": 4
 },
 "nbformat": 4,
 "nbformat_minor": 2
}
